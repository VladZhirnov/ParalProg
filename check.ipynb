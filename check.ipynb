{
 "cells": [
  {
   "cell_type": "code",
   "execution_count": 1,
   "id": "dd6b0f4a",
   "metadata": {},
   "outputs": [],
   "source": [
    "import numpy as np\n",
    "import pandas as pd\n",
    "import matplotlib.pyplot as plt"
   ]
  },
  {
   "cell_type": "code",
   "execution_count": 2,
   "id": "58b16853",
   "metadata": {},
   "outputs": [],
   "source": [
    "def checkMultiMatrices(path1, path2, path_out):\n",
    "    A = np.loadtxt(path1)\n",
    "    B = np.loadtxt(path2)\n",
    "    C = np.dot(A, B)\n",
    "    C1 = np.loadtxt(path_out)\n",
    "    if len(C) != len(C1) or len(C[0]) != len(C1[0]):\n",
    "        print(\"The matrices have different dimensions.\")\n",
    "        return\n",
    "\n",
    "    with open(\"check_mul.txt\",'w') as f:\n",
    "        for row in C:\n",
    "            f.write(' '.join(map(str,row))+'\\n')\n",
    "\n",
    "\n",
    "    are_equal = True\n",
    "    for i in range(len(C)):\n",
    "        for j in range(len(C[0])):\n",
    "            if abs(C[i][j] - C1[i][j]) > 0.0001: \n",
    "                are_equal = False\n",
    "                break\n",
    "        if not are_equal:\n",
    "            break\n",
    "\n",
    "    if are_equal:\n",
    "        print(\"The matrices are equal.\")\n",
    "    else:\n",
    "        print(\"The matrices are not equal.\")"
   ]
  },
  {
   "cell_type": "code",
   "execution_count": 3,
   "id": "7e0147fb",
   "metadata": {},
   "outputs": [
    {
     "name": "stdout",
     "output_type": "stream",
     "text": [
      "The matrices are equal.\n"
     ]
    }
   ],
   "source": [
    "checkMultiMatrices('Matrix_1/matrix1_10.txt', 'Matrix_2/matrix2_10.txt','Output/output_10.txt')"
   ]
  },
  {
   "cell_type": "code",
   "execution_count": 4,
   "id": "9a645272",
   "metadata": {},
   "outputs": [
    {
     "name": "stdout",
     "output_type": "stream",
     "text": [
      "The matrices are equal.\n"
     ]
    }
   ],
   "source": [
    "checkMultiMatrices('Matrix_1/matrix1_20.txt', 'Matrix_2/matrix2_20.txt','Output/output_20.txt')"
   ]
  },
  {
   "cell_type": "code",
   "execution_count": 5,
   "id": "92069753",
   "metadata": {},
   "outputs": [
    {
     "name": "stdout",
     "output_type": "stream",
     "text": [
      "The matrices are equal.\n"
     ]
    }
   ],
   "source": [
    "checkMultiMatrices('Matrix_1/matrix1_30.txt', 'Matrix_2/matrix2_30.txt','Output/output_30.txt')"
   ]
  },
  {
   "cell_type": "code",
   "execution_count": 6,
   "id": "53007f0f",
   "metadata": {},
   "outputs": [
    {
     "name": "stdout",
     "output_type": "stream",
     "text": [
      "The matrices are equal.\n"
     ]
    }
   ],
   "source": [
    "checkMultiMatrices('Matrix_1/matrix1_40.txt', 'Matrix_2/matrix2_40.txt','Output/output_40.txt')"
   ]
  },
  {
   "cell_type": "code",
   "execution_count": 7,
   "id": "4fad2826",
   "metadata": {},
   "outputs": [
    {
     "name": "stdout",
     "output_type": "stream",
     "text": [
      "The matrices are equal.\n"
     ]
    }
   ],
   "source": [
    "checkMultiMatrices('Matrix_1/matrix1_50.txt', 'Matrix_2/matrix2_50.txt','Output/output_50.txt')"
   ]
  },
  {
   "cell_type": "code",
   "execution_count": 8,
   "id": "a736dbb2",
   "metadata": {},
   "outputs": [
    {
     "name": "stdout",
     "output_type": "stream",
     "text": [
      "The matrices are equal.\n"
     ]
    }
   ],
   "source": [
    "checkMultiMatrices('Matrix_1/matrix1_60.txt', 'Matrix_2/matrix2_60.txt','Output/output_60.txt')"
   ]
  },
  {
   "cell_type": "code",
   "execution_count": 9,
   "id": "4d6906de",
   "metadata": {},
   "outputs": [
    {
     "name": "stdout",
     "output_type": "stream",
     "text": [
      "The matrices are equal.\n"
     ]
    }
   ],
   "source": [
    "checkMultiMatrices('Matrix_1/matrix1_70.txt', 'Matrix_2/matrix2_70.txt','Output/output_70.txt')"
   ]
  },
  {
   "cell_type": "code",
   "execution_count": 10,
   "id": "08a8abb5",
   "metadata": {},
   "outputs": [
    {
     "name": "stdout",
     "output_type": "stream",
     "text": [
      "The matrices are equal.\n"
     ]
    }
   ],
   "source": [
    "checkMultiMatrices('Matrix_1/matrix1_80.txt', 'Matrix_2/matrix2_80.txt','Output/output_80.txt')"
   ]
  },
  {
   "cell_type": "code",
   "execution_count": 11,
   "id": "02165411",
   "metadata": {},
   "outputs": [
    {
     "name": "stdout",
     "output_type": "stream",
     "text": [
      "The matrices are equal.\n"
     ]
    }
   ],
   "source": [
    "checkMultiMatrices('Matrix_1/matrix1_90.txt', 'Matrix_2/matrix2_90.txt','Output/output_90.txt')"
   ]
  },
  {
   "cell_type": "code",
   "execution_count": 12,
   "id": "b5718936",
   "metadata": {},
   "outputs": [
    {
     "name": "stdout",
     "output_type": "stream",
     "text": [
      "The matrices are equal.\n"
     ]
    }
   ],
   "source": [
    "checkMultiMatrices('Matrix_1/matrix1_100.txt', 'Matrix_2/matrix2_100.txt','Output/output_100.txt')"
   ]
  },
  {
   "cell_type": "code",
   "execution_count": 13,
   "id": "6c809379",
   "metadata": {},
   "outputs": [
    {
     "name": "stdout",
     "output_type": "stream",
     "text": [
      "The matrices are equal.\n"
     ]
    }
   ],
   "source": [
    "checkMultiMatrices('Matrix_1/matrix1_1000.txt', 'Matrix_2/matrix2_1000.txt','Output/output_1000.txt')"
   ]
  },
  {
   "cell_type": "code",
   "execution_count": null,
   "id": "af879c0e",
   "metadata": {},
   "outputs": [
    {
     "ename": "TypeError",
     "evalue": "iteration over a 0-d array",
     "output_type": "error",
     "traceback": [
      "\u001b[1;31m---------------------------------------------------------------------------\u001b[0m",
      "\u001b[1;31mTypeError\u001b[0m                                 Traceback (most recent call last)",
      "Cell \u001b[1;32mIn[14], line 1\u001b[0m\n\u001b[1;32m----> 1\u001b[0m times_dot \u001b[38;5;241m=\u001b[39m \u001b[38;5;28;43mlist\u001b[39;49m\u001b[43m(\u001b[49m\u001b[43mnp\u001b[49m\u001b[38;5;241;43m.\u001b[39;49m\u001b[43mgenfromtxt\u001b[49m\u001b[43m(\u001b[49m\u001b[38;5;124;43m\"\u001b[39;49m\u001b[38;5;124;43mtimes.txt\u001b[39;49m\u001b[38;5;124;43m\"\u001b[39;49m\u001b[43m,\u001b[49m\u001b[43m \u001b[49m\u001b[43mdelimiter\u001b[49m\u001b[38;5;241;43m=\u001b[39;49m\u001b[38;5;124;43m\"\u001b[39;49m\u001b[38;5;124;43m,\u001b[39;49m\u001b[38;5;124;43m\"\u001b[39;49m\u001b[43m)\u001b[49m\u001b[43m)\u001b[49m\n\u001b[0;32m      2\u001b[0m sizes_mat \u001b[38;5;241m=\u001b[39m [\u001b[38;5;241m10\u001b[39m, \u001b[38;5;241m20\u001b[39m, \u001b[38;5;241m30\u001b[39m, \u001b[38;5;241m40\u001b[39m, \u001b[38;5;241m50\u001b[39m, \u001b[38;5;241m60\u001b[39m, \u001b[38;5;241m70\u001b[39m, \u001b[38;5;241m80\u001b[39m, \u001b[38;5;241m90\u001b[39m, \u001b[38;5;241m100\u001b[39m, \u001b[38;5;241m1000\u001b[39m]\n\u001b[0;32m      4\u001b[0m plt\u001b[38;5;241m.\u001b[39mfigure(figsize\u001b[38;5;241m=\u001b[39m(\u001b[38;5;241m7\u001b[39m, \u001b[38;5;241m10\u001b[39m))\n",
      "\u001b[1;31mTypeError\u001b[0m: iteration over a 0-d array"
     ]
    }
   ],
   "source": [
    "times_dot = list(np.genfromtxt(\"times.txt\"))\n",
    "sizes_mat = [10, 20, 30, 40, 50, 60, 70, 80, 90, 100, 1000]\n",
    "\n",
    "plt.figure(figsize=(7, 10))\n",
    "plt.plot(sizes_mat, times_dot, marker='o', linestyle='-')\n",
    "plt.title('Зависимость размера матрицы и времени выполнения')\n",
    "plt.xlabel('Размер матрицы')\n",
    "plt.ylabel('Время выполнения (микросекунда)')\n",
    "\n",
    "plt.xticks(sizes_mat)\n",
    "plt.yticks([int(t) for t in times_dot])\n",
    "plt.tick_params(axis='y', labelleft=True)\n",
    "for size, time in zip(sizes_mat, times_dot):\n",
    "    plt.text(size, time, f'{time:.2f}', fontsize=8, ha='left', va='bottom')\n",
    "plt.show()"
   ]
  }
 ],
 "metadata": {
  "kernelspec": {
   "display_name": "Python 3",
   "language": "python",
   "name": "python3"
  },
  "language_info": {
   "codemirror_mode": {
    "name": "ipython",
    "version": 3
   },
   "file_extension": ".py",
   "mimetype": "text/x-python",
   "name": "python",
   "nbconvert_exporter": "python",
   "pygments_lexer": "ipython3",
   "version": "3.11.0"
  }
 },
 "nbformat": 4,
 "nbformat_minor": 5
}
