{
 "cells": [
  {
   "cell_type": "code",
   "execution_count": 15,
   "id": "dd6b0f4a",
   "metadata": {},
   "outputs": [],
   "source": [
    "import numpy as np\n",
    "import pandas as pd\n",
    "import matplotlib.pyplot as plt"
   ]
  },
  {
   "cell_type": "code",
   "execution_count": 16,
   "id": "58b16853",
   "metadata": {},
   "outputs": [],
   "source": [
    "def checkMultiMatrices(path1, path2, path_out):\n",
    "    A = np.loadtxt(path1)\n",
    "    B = np.loadtxt(path2)\n",
    "    C = np.dot(A, B)\n",
    "    C1 = np.loadtxt(path_out)\n",
    "    if len(C) != len(C1) or len(C[0]) != len(C1[0]):\n",
    "        print(\"The matrices have different dimensions.\")\n",
    "        return\n",
    "\n",
    "    with open(\"check_mul.txt\",'w') as f:\n",
    "        for row in C:\n",
    "            f.write(' '.join(map(str,row))+'\\n')\n",
    "\n",
    "\n",
    "    are_equal = True\n",
    "    for i in range(len(C)):\n",
    "        for j in range(len(C[0])):\n",
    "            if abs(C[i][j] - C1[i][j]) > 0.0001: \n",
    "                are_equal = False\n",
    "                break\n",
    "        if not are_equal:\n",
    "            break\n",
    "\n",
    "    if are_equal:\n",
    "        print(\"The matrices are equal.\")\n",
    "    else:\n",
    "        print(\"The matrices are not equal.\")"
   ]
  },
  {
   "cell_type": "code",
   "execution_count": 17,
   "id": "7e0147fb",
   "metadata": {},
   "outputs": [
    {
     "name": "stdout",
     "output_type": "stream",
     "text": [
      "The matrices are equal.\n"
     ]
    }
   ],
   "source": [
    "checkMultiMatrices('Matrix_1/matrix1_10.txt', 'Matrix_2/matrix2_10.txt','Output/output_10.txt')"
   ]
  },
  {
   "cell_type": "code",
   "execution_count": 18,
   "id": "9a645272",
   "metadata": {},
   "outputs": [
    {
     "name": "stdout",
     "output_type": "stream",
     "text": [
      "The matrices are equal.\n"
     ]
    }
   ],
   "source": [
    "checkMultiMatrices('Matrix_1/matrix1_20.txt', 'Matrix_2/matrix2_20.txt','Output/output_20.txt')"
   ]
  },
  {
   "cell_type": "code",
   "execution_count": 19,
   "id": "92069753",
   "metadata": {},
   "outputs": [
    {
     "name": "stdout",
     "output_type": "stream",
     "text": [
      "The matrices are equal.\n"
     ]
    }
   ],
   "source": [
    "checkMultiMatrices('Matrix_1/matrix1_30.txt', 'Matrix_2/matrix2_30.txt','Output/output_30.txt')"
   ]
  },
  {
   "cell_type": "code",
   "execution_count": 20,
   "id": "53007f0f",
   "metadata": {},
   "outputs": [
    {
     "name": "stdout",
     "output_type": "stream",
     "text": [
      "The matrices are equal.\n"
     ]
    }
   ],
   "source": [
    "checkMultiMatrices('Matrix_1/matrix1_40.txt', 'Matrix_2/matrix2_40.txt','Output/output_40.txt')"
   ]
  },
  {
   "cell_type": "code",
   "execution_count": 21,
   "id": "4fad2826",
   "metadata": {},
   "outputs": [
    {
     "name": "stdout",
     "output_type": "stream",
     "text": [
      "The matrices are equal.\n"
     ]
    }
   ],
   "source": [
    "checkMultiMatrices('Matrix_1/matrix1_50.txt', 'Matrix_2/matrix2_50.txt','Output/output_50.txt')"
   ]
  },
  {
   "cell_type": "code",
   "execution_count": 22,
   "id": "a736dbb2",
   "metadata": {},
   "outputs": [
    {
     "name": "stdout",
     "output_type": "stream",
     "text": [
      "The matrices are equal.\n"
     ]
    }
   ],
   "source": [
    "checkMultiMatrices('Matrix_1/matrix1_60.txt', 'Matrix_2/matrix2_60.txt','Output/output_60.txt')"
   ]
  },
  {
   "cell_type": "code",
   "execution_count": 23,
   "id": "4d6906de",
   "metadata": {},
   "outputs": [
    {
     "name": "stdout",
     "output_type": "stream",
     "text": [
      "The matrices are equal.\n"
     ]
    }
   ],
   "source": [
    "checkMultiMatrices('Matrix_1/matrix1_70.txt', 'Matrix_2/matrix2_70.txt','Output/output_70.txt')"
   ]
  },
  {
   "cell_type": "code",
   "execution_count": 24,
   "id": "08a8abb5",
   "metadata": {},
   "outputs": [
    {
     "name": "stdout",
     "output_type": "stream",
     "text": [
      "The matrices are equal.\n"
     ]
    }
   ],
   "source": [
    "checkMultiMatrices('Matrix_1/matrix1_80.txt', 'Matrix_2/matrix2_80.txt','Output/output_80.txt')"
   ]
  },
  {
   "cell_type": "code",
   "execution_count": 25,
   "id": "02165411",
   "metadata": {},
   "outputs": [
    {
     "name": "stdout",
     "output_type": "stream",
     "text": [
      "The matrices are equal.\n"
     ]
    }
   ],
   "source": [
    "checkMultiMatrices('Matrix_1/matrix1_90.txt', 'Matrix_2/matrix2_90.txt','Output/output_90.txt')"
   ]
  },
  {
   "cell_type": "code",
   "execution_count": 26,
   "id": "b5718936",
   "metadata": {},
   "outputs": [
    {
     "name": "stdout",
     "output_type": "stream",
     "text": [
      "The matrices are equal.\n"
     ]
    }
   ],
   "source": [
    "checkMultiMatrices('Matrix_1/matrix1_100.txt', 'Matrix_2/matrix2_100.txt','Output/output_100.txt')"
   ]
  },
  {
   "cell_type": "code",
   "execution_count": 27,
   "id": "6c809379",
   "metadata": {},
   "outputs": [
    {
     "name": "stdout",
     "output_type": "stream",
     "text": [
      "The matrices are equal.\n"
     ]
    }
   ],
   "source": [
    "checkMultiMatrices('Matrix_1/matrix1_1000.txt', 'Matrix_2/matrix2_1000.txt','Output/output_1000.txt')"
   ]
  },
  {
   "cell_type": "code",
   "execution_count": null,
   "id": "af879c0e",
   "metadata": {},
   "outputs": [
    {
     "name": "stdout",
     "output_type": "stream",
     "text": [
      "    Размер  Последовательная версия  По MPI c 2 процесса  По MPI c 4 процесса  \\\n",
      "0       10                     25.0                  NaN                  NaN   \n",
      "1       20                    187.0                  NaN                  NaN   \n",
      "2       30                    599.0                  NaN                  NaN   \n",
      "3       40                   1017.0                  NaN                  NaN   \n",
      "4       50                   1952.0                  NaN                  NaN   \n",
      "5       60                   3087.0                  NaN                  NaN   \n",
      "6       70                   5417.0                  NaN                  NaN   \n",
      "7       80                   4134.0                  NaN                  NaN   \n",
      "8       90                   6237.0                  NaN                  NaN   \n",
      "9      100                   8012.0                  NaN                  NaN   \n",
      "10    1000               10508387.0                  NaN                  NaN   \n",
      "\n",
      "    По MPI c 8 процесса  \n",
      "0                   NaN  \n",
      "1                   NaN  \n",
      "2                   NaN  \n",
      "3                   NaN  \n",
      "4                   NaN  \n",
      "5                   NaN  \n",
      "6                   NaN  \n",
      "7                   NaN  \n",
      "8                   NaN  \n",
      "9                   NaN  \n",
      "10                  NaN  \n"
     ]
    }
   ],
   "source": [
    "times_dot = list(np.genfromtxt(\"times.txt\"))\n",
    "times_CPI_2 = list(np.genfromtxt(\"time_mpi_2.txt\", delimiter=\",\"))[0:11]\n",
    "times_CPI_4 = list(np.genfromtxt(\"time_mpi_4.txt\", delimiter=\",\"))[0:11]\n",
    "times_CPI_8 = list(np.genfromtxt(\"time_mpi_8.txt\", delimiter=\",\"))[0:11]\n",
    "sizes_mat = [10, 20, 30, 40, 50, 60, 70, 80, 90, 100, 1000]\n",
    "\n",
    "data = {'Размер': sizes_mat, 'Последовательная версия': times_dot, 'По MPI c 2 процесса': times_CPI_2, 'По MPI c 4 процесса': times_CPI_4, 'По MPI c 8 процесса': times_CPI_8}\n",
    "df = pd.DataFrame(data)\n",
    "\n",
    "print(df)"
   ]
  }
 ],
 "metadata": {
  "kernelspec": {
   "display_name": "Python 3",
   "language": "python",
   "name": "python3"
  },
  "language_info": {
   "codemirror_mode": {
    "name": "ipython",
    "version": 3
   },
   "file_extension": ".py",
   "mimetype": "text/x-python",
   "name": "python",
   "nbconvert_exporter": "python",
   "pygments_lexer": "ipython3",
   "version": "3.11.0"
  }
 },
 "nbformat": 4,
 "nbformat_minor": 5
}
